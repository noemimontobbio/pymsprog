{
 "cells": [
  {
   "cell_type": "markdown",
   "id": "aea97773",
   "metadata": {},
   "source": [
    "# Computing MS progression from longitudinal data\n",
    "\n",
    "This tutorial illustrates how to use the `msprog` package to study the progression of disability in multiple sclerosis (MS) based on repeated assessments of an outcome measure (EDSS, NHPT, T25FW, or SDMT) through time, and on the dates of acute episodes (if present)."
   ]
  },
  {
   "cell_type": "code",
   "execution_count": 3,
   "id": "80f8e2ab",
   "metadata": {},
   "outputs": [],
   "source": [
    "from pymsprog.__init__ import MSprog, compute_delta\n",
    "# from pymsprog import compute_delta, MSprog"
   ]
  },
  {
   "cell_type": "markdown",
   "id": "c94ff26f",
   "metadata": {},
   "source": [
    "## Input data\n",
    "\n",
    "The data must be organised in a `pandas` `DataFrame` containing (at least) the following columns:\n",
    "\n",
    "* Subject IDs;\n",
    "* Visit dates;\n",
    "* Outcome values.\n",
    "\n",
    "The visits should be listed in chronological order (if they are not, `MSprog` will sort them).\n",
    "\n",
    "For relapsing-remitting MS patients, an additional `DataFrame` with the dates of relapses is needed to correctly assess progression and characterise progression events as relapse-associated or relapse-independent. The dataset should contain (at least) the following columns:\n",
    "\n",
    "* Subject IDs;\n",
    "* Visit dates."
   ]
  },
  {
   "cell_type": "markdown",
   "id": "7422fa35",
   "metadata": {},
   "source": [
    "In this tutorial, we will use toy data with artificially generated EDSS and SDMT assessments and relapse dates for four patients:"
   ]
  },
  {
   "cell_type": "code",
   "execution_count": 7,
   "id": "35851b5c",
   "metadata": {},
   "outputs": [
    {
     "name": "stdout",
     "output_type": "stream",
     "text": [
      "\n",
      "Visits:\n",
      "   id       date  EDSS  SDMT\n",
      "0   1 2021-09-23   4.5    50\n",
      "1   1 2021-11-03   4.5    50\n",
      "2   1 2022-01-19   4.5    51\n",
      "3   1 2022-04-27   4.5    57\n",
      "4   1 2022-07-12   5.5    55\n",
      "\n",
      "Relapses:\n",
      "   id       date\n",
      "0   2 2021-06-12\n",
      "1   2 2022-10-25\n",
      "2   3 2022-12-01\n"
     ]
    }
   ],
   "source": [
    "import pandas as pd\n",
    "\n",
    "toydata_visits = pd.read_excel('MSprog_toydata.xlsx', sheet_name='visits')\n",
    "print('\\nVisits:')\n",
    "print(toydata_visits.head())\n",
    "\n",
    "toydata_relapses = pd.read_excel('MSprog_toydata.xlsx', sheet_name='relapses')\n",
    "print('\\nRelapses:')\n",
    "print(toydata_relapses.head())"
   ]
  },
  {
   "cell_type": "markdown",
   "id": "0e87ab63",
   "metadata": {},
   "source": [
    "## Minimal example\n",
    "\n",
    "Given data on visits and relapses in the form specified above, the `MSprog` function analyses the disability progression for each subject. Default `outcome` is `'edss'`."
   ]
  },
  {
   "cell_type": "code",
   "execution_count": 8,
   "id": "e755a4c3",
   "metadata": {
    "scrolled": true
   },
   "outputs": [
    {
     "name": "stdout",
     "output_type": "stream",
     "text": [
      "\n",
      "Subject #1: 8 visits, 0 relapses\n",
      "EDSS change at visit no.5 (2022-07-12); potential confirmation visits available: no.[6]\n",
      "EDSS progression[PIRA] (visit no.5, 2022-07-12) confirmed at [3] months, sustained up to visit no.8 (2023-03-11)\n",
      "New settings: baseline at visit no.8, searching for events from visit no.- on\n",
      "No EDSS change in any subsequent visit: end process\n",
      "Event sequence: PIRA\n",
      "\n",
      "Subject #2: 10 visits, 2 relapses\n",
      "Visits not listed in chronological order: sorting them.\n",
      "EDSS change at visit no.3 (2021-03-24); potential confirmation visits available: no.[]\n",
      "Change not confirmed: proceed with search\n",
      "EDSS change at visit no.4 (2021-06-12); potential confirmation visits available: no.[5]\n",
      "EDSS progression[RAW] (visit no.4, 2021-06-12) confirmed at [3] months, sustained up to visit no.5 (2021-09-04)\n",
      "New settings: baseline at visit no.5, searching for events from visit no.6 on\n",
      "EDSS change at visit no.6 (2021-12-02); potential confirmation visits available: no.[7]\n",
      "Change not confirmed: proceed with search\n",
      "EDSS change at visit no.7 (2022-02-23); potential confirmation visits available: no.[8]\n",
      "Change not confirmed: proceed with search\n",
      "EDSS change at visit no.8 (2022-05-19); potential confirmation visits available: no.[9]\n",
      "EDSS progression[PIRA] (visit no.8, 2022-05-19) confirmed at [3] months, sustained up to visit no.10 (2022-11-26)\n",
      "New settings: baseline at visit no.10, searching for events from visit no.- on\n",
      "No EDSS change in any subsequent visit: end process\n",
      "Event sequence: RAW, PIRA\n",
      "\n",
      "Subject #3: 7 visits, 1 relapse\n",
      "Visits not listed in chronological order: sorting them.\n",
      "EDSS change at visit no.2 (2021-12-01); potential confirmation visits available: no.[3]\n",
      "Change not confirmed: proceed with search\n",
      "EDSS change at visit no.6 (2022-12-22); potential confirmation visits available: no.[7]\n",
      "Change not confirmed: proceed with search\n",
      "EDSS change at visit no.7 (2023-02-21); potential confirmation visits available: no.[]\n",
      "Change not confirmed: proceed with search\n",
      "No EDSS change in any subsequent visit: end process\n",
      "Event sequence: \n",
      "\n",
      "Subject #4: 7 visits, 0 relapses\n",
      "Visits not listed in chronological order: sorting them.\n",
      "EDSS change at visit no.2 (2021-12-04); potential confirmation visits available: no.[3]\n",
      "EDSS improvement (visit no.2, 2021-12-04) confirmed at [3] months, sustained up to visit no.3 (2022-03-12)\n",
      "New settings: baseline at visit no.3, searching for events from visit no.4 on\n",
      "EDSS change at visit no.4 (2022-07-19); potential confirmation visits available: no.[5]\n",
      "EDSS progression[PIRA] (visit no.4, 2022-07-19) confirmed at [3] months, sustained up to visit no.7 (2023-04-27)\n",
      "New settings: baseline at visit no.7, searching for events from visit no.- on\n",
      "No EDSS change in any subsequent visit: end process\n",
      "Event sequence: impr, PIRA\n",
      "\n",
      "---\n",
      "Outcome: EDSS\n",
      "Confirmation at: [3]mm (-30dd, +30dd)\n",
      "Baseline: roving\n",
      "Relapse influence: 30dd\n",
      "Events detected: multiple\n",
      "---\n",
      "Total subjects: 4\n",
      "---\n",
      "Progressed: 3 (PIRA: 3; RAW: 1)\n",
      "Improved: 1\n",
      "---\n",
      "Progression events: 4 (PIRA: 3; RAW: 1)\n",
      "Improved: 1\n"
     ]
    }
   ],
   "source": [
    "summary, results = MSprog(toydata_visits, # data on visits\n",
    "                         subj_col='id', value_col='EDSS', date_col='date', # specify column names\n",
    "                         relapse=toydata_relapses) # data on relapses"
   ]
  },
  {
   "cell_type": "markdown",
   "id": "45c1315c",
   "metadata": {},
   "source": [
    "The function prints concise info (the argument `verbose` can be used to control the amount of printed info), and generates the following two `DataFrame`s.\n",
    "\n",
    "<br />\n",
    "\n",
    "1. A summary of the event sequence detected for each subject:"
   ]
  },
  {
   "cell_type": "code",
   "execution_count": 9,
   "id": "d80fd4e9",
   "metadata": {},
   "outputs": [
    {
     "name": "stdout",
     "output_type": "stream",
     "text": [
      "  event_sequence  improvement  progression  RAW  PIRA  undefined_prog\n",
      "1           PIRA            0            1    0     1               0\n",
      "2      RAW, PIRA            0            2    1     1               0\n",
      "3                           0            0    0     0               0\n",
      "4     impr, PIRA            1            1    0     1               0\n"
     ]
    }
   ],
   "source": [
    "print(summary)"
   ]
  },
  {
   "cell_type": "markdown",
   "id": "d26a21d2",
   "metadata": {},
   "source": [
    "where: `event_sequence` specifies the order of the events; the other columns count the events of each kind (improvement; progression; relapse-associated worsening, RAW; progression independent of relapse activity, PIRA; and progression that could not be classified as either RAW of PIRA with the available information). See [@lublin2014; @kappos2018; @silent].\n",
    "\n",
    "<br />\n",
    "\n",
    "2. Extended info on each event for all subjects:"
   ]
  },
  {
   "cell_type": "code",
   "execution_count": 10,
   "id": "28f3145b",
   "metadata": {},
   "outputs": [
    {
     "name": "stdout",
     "output_type": "stream",
     "text": [
      "   id  nevent event_type time2event conf3 sust_days sust_last\n",
      "0   1       1       PIRA        292     1       125         1\n",
      "1   2       1        RAW        198     1         0         0\n",
      "2   2       2       PIRA        257     1        90         1\n",
      "3   4       1       impr         77     1         0         0\n",
      "4   4       2       PIRA        129     1       204         1\n"
     ]
    }
   ],
   "source": [
    "print(results)"
   ]
  },
  {
   "cell_type": "markdown",
   "id": "d4d903ac",
   "metadata": {},
   "source": [
    "where: `nevent` is the cumulative event count for each subject; `event_type` characterises the event; `time2event` is the number of days from baseline to event; `conf3` reports whether the event was confirmed; `sust_days` is the number of days for which the event was sustained *after confirmation*; `sust_last` reports whether the event was sustained until the last visit.\n",
    "\n",
    "<br />\n",
    "\n",
    "Several qualitative and quantitative options for computing the progression are given as optional arguments of `MSprog` that can be set by the user. In order to ensure reproducibility, the results should always be complemented by the specific settings used to obtain them. In the following sections we will go into more detail about usage and best practices for each of the options."
   ]
  },
  {
   "cell_type": "markdown",
   "id": "ab681a62",
   "metadata": {},
   "source": [
    "\n",
    "## Valid changes in the outcome measure\n",
    "\n",
    "The `MSprog` function detects the events sequentially by scanning the outcome values in chronological order, and each value is tested for its difference from the current reference value. The `compute_delta` function returns the minimum difference $\\delta$ in the chosen outcome measure that is accepted as a valid change from a given reference value $x$ (value at baseline). The criterion varies based on the test under analysis, see [@lorscheider2016; @bosma2010; @kalinowski2022; @strober2019].\n",
    "\n",
    "* Extended Disability Status Scale (EDSS): $\\delta(x)=\\begin{cases} 1.5 \\quad \\text{ if } x=0\\\\1 \\quad\\;\\;\\; \\text{ if } 0 < x \\leq 5\\\\0.5 \\quad \\text{ if } 5<x\\leq 10\\end{cases}$;\n",
    "\n",
    "* Nine-Hole Peg Test (NHPT), for either the dominant or the non-dominant hand: $\\delta(x) = \\frac{x}{5}$;\n",
    "\n",
    "* Timed 25-Foot Walk (T25FW): $\\delta(x) = \\frac{x}{5}$;\n",
    "\n",
    "* Symbol Digit Modalities Test (SDMT): $\\delta(x) = \\min\\left(3, \\frac{x}{10}\\right)$.\n",
    "\n",
    "\n",
    "For example:"
   ]
  },
  {
   "cell_type": "code",
   "execution_count": 14,
   "id": "9ea1bbba",
   "metadata": {},
   "outputs": [
    {
     "name": "stdout",
     "output_type": "stream",
     "text": [
      "Minimum valid change from baseline EDSS=4:  1.0\n",
      "Minimum valid change from baseline T25FW=10:  2.0\n"
     ]
    }
   ],
   "source": [
    "print('Minimum valid change from baseline EDSS=4: ', compute_delta(4)) # default outcome measure is 'edss'\n",
    "print('Minimum valid change from baseline T25FW=10: ', compute_delta(10, outcome='t25fw'))"
   ]
  },
  {
   "cell_type": "markdown",
   "id": "8ba73c5e",
   "metadata": {},
   "source": [
    "The `compute_delta` function is used as default `delta_fun` in the `MSprog` function to assess progression. Alternatively, a custom `delta_fun` can be provided. To change the minimum $\\delta$ for SDMT to, say, \"either 4 points or 20% of the reference value\", we would define:"
   ]
  },
  {
   "cell_type": "code",
   "execution_count": 16,
   "id": "cff9f92f",
   "metadata": {},
   "outputs": [
    {
     "name": "stdout",
     "output_type": "stream",
     "text": [
      "CUSTOM minimum valid change from baseline SDMT=50:  4\n",
      "DEFAULT minimum valid change from baseline SDMT=50:  3\n"
     ]
    }
   ],
   "source": [
    "def my_sdmt_delta(x):\n",
    "    return min(4, x/5)\n",
    "print('CUSTOM minimum valid change from baseline SDMT=50: ', my_sdmt_delta(50)) # my delta\n",
    "print('DEFAULT minimum valid change from baseline SDMT=50: ', compute_delta(50, outcome='sdmt')) # default delta"
   ]
  },
  {
   "cell_type": "markdown",
   "id": "ee6e1e4f",
   "metadata": {},
   "source": [
    "To use our custom function, we can then set `delta_fun=my_sdmt_delta` in `MSprog` when computing the progression."
   ]
  },
  {
   "cell_type": "markdown",
   "id": "90baecc1",
   "metadata": {},
   "source": [
    "## Baseline scheme\n",
    "\n",
    "The baseline scheme can be set by using the `baseline` argument in `MSprog`. Two main baseline schemes can be adopted:\n",
    "\n",
    "* Fixed baseline (`baseline='fixed'`, default): the reference value is set to be the first outcome value found outside the influence of an acute event.\n",
    "* Roving baseline (`baseline='roving'`): the reference value is initially set as the first outcome value out of relapse influence, then updated after each event to the last confirmed outcome value (out of relapse influence). **This scheme is recommended in a \"multiple events\" setting** [@kappos2018] (see example below). The re-baseline procedure can be made finer by setting `sub_threshold=TRUE` in `MSprog`: this moves the reference value after *any* confirmed change, even if the difference from the current reference is smaller than the minimum $\\delta$.\n",
    "\n",
    "\n",
    "For example, extracting multiple EDSS events for subject `4` from `toydata_visits` with a fixed baseline would result in the following."
   ]
  },
  {
   "cell_type": "code",
   "execution_count": 33,
   "id": "560d2a71",
   "metadata": {},
   "outputs": [
    {
     "name": "stdout",
     "output_type": "stream",
     "text": [
      "\n",
      "Data:\n",
      "         date  EDSS\n",
      "25 2021-09-18   4.5\n",
      "26 2021-12-04   3.5\n",
      "27 2022-03-12   3.5\n",
      "28 2022-07-19   5.0\n",
      "29 2022-10-05   5.0\n",
      "30 2023-01-16   5.5\n",
      "31 2023-04-27   5.0\n",
      "\n",
      "Results with fixed baseline:\n",
      "                     0\n",
      "id                   4\n",
      "nevent               1\n",
      "event_type        impr\n",
      "bldate      2021-09-18\n",
      "date        2021-12-04\n",
      "time2event          77\n",
      "conf3                1\n",
      "sust_days            0\n",
      "sust_last            0\n"
     ]
    }
   ],
   "source": [
    "print('\\nData:')\n",
    "print(toydata_visits.loc[toydata_visits['id']==4, ['date', 'EDSS']]) # EDSS visits\n",
    "\n",
    "_, results = MSprog(toydata_visits, 'id', 'EDSS', 'date', relapse=toydata_relapses, subjects=[4],\n",
    "                outcome='edss', conf_months=3, event='multiple', baseline='fixed', \n",
    "                include_dates=True, verbose=0)\n",
    "print('\\nResults with fixed baseline:')\n",
    "print(results.T) # results"
   ]
  },
  {
   "cell_type": "markdown",
   "id": "7bd6b5a9",
   "metadata": {},
   "source": [
    "Since the reference value was kept fixed at the first visit (EDSS = 4.5), the EDSS progression at visit 4 (EDSS = 5) was not detected. On the other hand, with a roving baseline scheme, the baseline is moved to visit 3 after the confirmed improvement and the progression event is correctly detected:"
   ]
  },
  {
   "cell_type": "code",
   "execution_count": 25,
   "id": "5cb4251c",
   "metadata": {},
   "outputs": [
    {
     "name": "stdout",
     "output_type": "stream",
     "text": [
      "\n",
      "Results with roving baseline:\n",
      "                     0           1\n",
      "id                   4           4\n",
      "nevent               1           2\n",
      "event_type        impr        PIRA\n",
      "bldate      2021-09-18  2022-03-12\n",
      "date        2021-12-04  2022-07-19\n",
      "time2event          77         129\n",
      "conf3                1           1\n",
      "sust_days            0         204\n",
      "sust_last            0           1\n"
     ]
    }
   ],
   "source": [
    "_, results = MSprog(toydata_visits, 'id', 'EDSS', 'date', relapse=toydata_relapses, subjects=[4],\n",
    "                outcome='edss', conf_months=3, event='multiple', baseline='roving', \n",
    "                include_dates=True, verbose=0)\n",
    "print('\\nResults with roving baseline:')\n",
    "print(results.T) # results"
   ]
  },
  {
   "cell_type": "markdown",
   "id": "7da28bf2",
   "metadata": {},
   "source": [
    "<br />\n",
    "Finally, on top of the chosen baseline scheme, *post-relapse re-baseline* can be applied by setting `relapse_rebl=TRUE` in `MSprog`. If this is enabled, outcome values are scanned once more from the beginning by resetting the baseline after each relapse (first visit out of relapse influence) to classify potential events left undefined as PIRA."
   ]
  },
  {
   "cell_type": "markdown",
   "id": "e2539efd",
   "metadata": {},
   "source": [
    "## Confirmation period\n",
    "\n",
    "An event is only validated if it is *confirmed*, that is, if the value change from baseline is maintained **up to** a subsequent visit falling within a pre-specified confirmation period [@ontaneda2017]. The chosen confirmation period depends on the type of study and on the frequency of visits, and can be set in `MSprog` by using the argument `conf_months`. If multiple values are specified (e.g., `conf_months=[3,6]`), events are retained if confirmed by at least a visit falling within one of the specified periods (here, 3 or 6 months $\\pm$ `conf_tol_days`)**(\\*)**. The results table will report whether an event was confirmed in each of the specified periods.\n",
    "\n",
    "**(\\*)** *An event is only confirmed if the value change from baseline is maintained **at all visits up to the confirmation visit**. So an event can only be confirmed at 6 months and *not* confirmed at 3 months if there are no valid confirmation visits falling within the 3-month window.*\n",
    "\n",
    "\n",
    "Let's look at subject `2` from `toydata_visits`:"
   ]
  },
  {
   "cell_type": "code",
   "execution_count": 27,
   "id": "c395d104",
   "metadata": {},
   "outputs": [
    {
     "name": "stdout",
     "output_type": "stream",
     "text": [
      "\n",
      "Visits:\n",
      "         date  EDSS\n",
      "8  2020-11-26   4.0\n",
      "9  2020-12-30   4.0\n",
      "10 2021-03-24   4.5\n",
      "11 2021-06-12   5.5\n",
      "12 2021-09-04   5.0\n",
      "13 2021-12-02   4.5\n",
      "14 2022-02-23   4.5\n",
      "15 2022-05-19   6.0\n",
      "16 2022-08-28   6.0\n",
      "17 2022-11-26   6.0\n",
      "\n",
      "Relapses:\n",
      "   id       date\n",
      "0   2 2021-06-12\n",
      "1   2 2022-10-25\n"
     ]
    }
   ],
   "source": [
    "print('\\nVisits:')\n",
    "print(toydata_visits.loc[toydata_visits['id']==2, ['date', 'EDSS']]) # EDSS visits\n",
    "\n",
    "print('\\nRelapses:')\n",
    "print(toydata_relapses[toydata_relapses['id']==2]) # relapses"
   ]
  },
  {
   "cell_type": "markdown",
   "id": "4880e073",
   "metadata": {},
   "source": [
    "The following code detects 3- or 6-month confirmed events for subject `2`."
   ]
  },
  {
   "cell_type": "code",
   "execution_count": 32,
   "id": "a19b90d1",
   "metadata": {},
   "outputs": [
    {
     "name": "stdout",
     "output_type": "stream",
     "text": [
      "\n",
      "Results:\n",
      "               0     1\n",
      "id             2     2\n",
      "nevent         1     2\n",
      "event_type   RAW  PIRA\n",
      "time2event   198   257\n",
      "conf3          1     1\n",
      "conf6          0     1\n",
      "PIRA_conf6  None     0\n",
      "sust_days      0     0\n",
      "sust_last      0     1\n"
     ]
    }
   ],
   "source": [
    "_, results = MSprog(toydata_visits, 'id', 'EDSS', 'date', relapse=toydata_relapses, subjects=[2],\n",
    "                outcome='edss', conf_months=[3,6], event='multiple', baseline='roving', \n",
    "                verbose=0)\n",
    "print('\\nResults:')\n",
    "print(results.T) # results"
   ]
  },
  {
   "cell_type": "markdown",
   "id": "a6d54720",
   "metadata": {},
   "source": [
    "The validated events included in the results are a 3-month-confirmed RAW and a 3-month-confirmed PIRA. The RAW event was not confirmed at 6 months (`conf6` is `0`). The PIRA event was also confirmed at 6 months (`conf6` is `1`). However, since a relapse occurred before the 6-month confirmation, the event cannot be classified as a 6-month-confirmed PIRA (`PIRA_conf6` is `0`) but only as a 6-month-confirmed progression."
   ]
  },
  {
   "cell_type": "markdown",
   "id": "d6cda380",
   "metadata": {},
   "source": [
    "The RAW event found for subject `2` constitutes a *transient* accumulation of disability. Such events can be excluded from the `MSprog` output by requiring that each event be sustained for at least a certain amount of time, specified by argument `require_sust_months`. For instance:"
   ]
  },
  {
   "cell_type": "code",
   "execution_count": 29,
   "id": "049bd88c",
   "metadata": {},
   "outputs": [
    {
     "name": "stdout",
     "output_type": "stream",
     "text": [
      "\n",
      "Results with require_sust_months=6:\n",
      "               0\n",
      "id             2\n",
      "nevent         1\n",
      "event_type  prog\n",
      "time2event   539\n",
      "conf3          1\n",
      "conf6          1\n",
      "PIRA_conf6  None\n",
      "sust_days      0\n",
      "sust_last      1\n"
     ]
    }
   ],
   "source": [
    "_, results = MSprog(toydata_visits, 'id', 'EDSS', 'date', relapse=toydata_relapses, subjects=[2],\n",
    "                outcome='edss', conf_months=[3,6], event='multiple', baseline='roving', \n",
    "                require_sust_months=6, verbose=0)\n",
    "print('\\nResults with require_sust_months=6:')\n",
    "print(results.T) # results"
   ]
  },
  {
   "cell_type": "markdown",
   "id": "eb70b079",
   "metadata": {},
   "source": [
    "In this context, as the transient EDSS accumulation was not classified as an event, it did not trigger a re-baseline according to the roving baseline scheme. As a consequence, the PIRA event is classified as an undefined progression due to the presence of a relapse between baseline and confirmation. This can be handled by enabling *post-relapse re-baseline* (`relapse_rebl=True`) to force a re-baseline after each relapse:"
   ]
  },
  {
   "cell_type": "code",
   "execution_count": 30,
   "id": "24f8d3e7",
   "metadata": {},
   "outputs": [
    {
     "name": "stdout",
     "output_type": "stream",
     "text": [
      "\n",
      "Results with require_sust_months=6 and relapse_rebl=True:\n",
      "               0\n",
      "id             2\n",
      "nevent         1\n",
      "event_type  PIRA\n",
      "time2event   257\n",
      "conf3          1\n",
      "conf6          1\n",
      "PIRA_conf6     0\n",
      "sust_days      0\n",
      "sust_last      1\n"
     ]
    }
   ],
   "source": [
    "_, results = MSprog(toydata_visits, 'id', 'EDSS', 'date', relapse=toydata_relapses, subjects=[2],\n",
    "                outcome='edss', conf_months=[3,6], event='multiple', baseline='roving', \n",
    "                require_sust_months=6, relapse_rebl=True, verbose=0)\n",
    "print('\\nResults with require_sust_months=6 and relapse_rebl=True:')\n",
    "print(results.T) # results"
   ]
  },
  {
   "cell_type": "markdown",
   "id": "62491891",
   "metadata": {},
   "source": [
    "The event is now correctly classified as PIRA.\n",
    "\n",
    "A more detailed report of the event detection process in each of the three cases examined can be visualized by re-running the above code snippets with `verbose=2`, see next section.  \n",
    "\n",
    "<br />\n",
    "\n",
    "Finally, the tolerance for the confirmation visit date can be set using the argument `conf_tol_days`. If a single number is specified (e.g., `conf_tol_days=45`), a symmetric tolerance interval is used: if the confirmation period is, say, 3 months, any visit within $[3\\text{mm} - 45\\text{dd}, 3\\text{mm} + 45\\text{dd}]$ will be a valid confirmation visit. Different tolerance on the left and on the right can be set by specifying two values (e.g., `conf_tol_days=[30, 365]` will generate a window $[3\\text{mm} - 30\\text{dd}, 3\\text{mm} + 365\\text{dd}]$). Further, the argument `conf_left` allows to consider as valid any visit *after* a certain amount of time (e.g., `conf_tol_days=45` with `conf_left=True` will result in the window $[3\\text{mm} - 30\\text{dd}, +\\inf]$)."
   ]
  },
  {
   "cell_type": "markdown",
   "id": "abe4b018",
   "metadata": {},
   "source": [
    "## Printing progress info\n",
    "\n",
    "The `MSprog` function scans the outcome values of each subject in chronological order to detect the events. It is possible to visualize an extended log of the ongoing computations by setting `verbose=2`. See the example below."
   ]
  },
  {
   "cell_type": "code",
   "execution_count": 31,
   "id": "7fa32834",
   "metadata": {},
   "outputs": [
    {
     "name": "stdout",
     "output_type": "stream",
     "text": [
      "\n",
      "Subject #1: 8 visits, 0 relapses\n",
      "EDSS change at visit no.5 (2022-07-12); potential confirmation visits available: no.[6]\n",
      "EDSS progression[PIRA] (visit no.5, 2022-07-12) confirmed at [3] months, sustained up to visit no.8 (2023-03-11)\n",
      "New settings: baseline at visit no.8, searching for events from visit no.- on\n",
      "No EDSS change in any subsequent visit: end process\n",
      "Event sequence: PIRA\n",
      "\n",
      "Subject #2: 10 visits, 2 relapses\n",
      "Visits not listed in chronological order: sorting them.\n",
      "EDSS change at visit no.3 (2021-03-24); potential confirmation visits available: no.[]\n",
      "Change not confirmed: proceed with search\n",
      "EDSS change at visit no.4 (2021-06-12); potential confirmation visits available: no.[5]\n",
      "EDSS progression[RAW] (visit no.4, 2021-06-12) confirmed at [3] months, sustained up to visit no.5 (2021-09-04)\n",
      "New settings: baseline at visit no.5, searching for events from visit no.6 on\n",
      "EDSS change at visit no.6 (2021-12-02); potential confirmation visits available: no.[7]\n",
      "Change not confirmed: proceed with search\n",
      "EDSS change at visit no.7 (2022-02-23); potential confirmation visits available: no.[8]\n",
      "Change not confirmed: proceed with search\n",
      "EDSS change at visit no.8 (2022-05-19); potential confirmation visits available: no.[9]\n",
      "EDSS progression[PIRA] (visit no.8, 2022-05-19) confirmed at [3] months, sustained up to visit no.10 (2022-11-26)\n",
      "New settings: baseline at visit no.10, searching for events from visit no.- on\n",
      "No EDSS change in any subsequent visit: end process\n",
      "Event sequence: RAW, PIRA\n",
      "\n",
      "Subject #3: 7 visits, 1 relapse\n",
      "Visits not listed in chronological order: sorting them.\n",
      "EDSS change at visit no.2 (2021-12-01); potential confirmation visits available: no.[3]\n",
      "Change not confirmed: proceed with search\n",
      "EDSS change at visit no.6 (2022-12-22); potential confirmation visits available: no.[7]\n",
      "Change not confirmed: proceed with search\n",
      "EDSS change at visit no.7 (2023-02-21); potential confirmation visits available: no.[]\n",
      "Change not confirmed: proceed with search\n",
      "No EDSS change in any subsequent visit: end process\n",
      "Event sequence: \n",
      "\n",
      "Subject #4: 7 visits, 0 relapses\n",
      "Visits not listed in chronological order: sorting them.\n",
      "EDSS change at visit no.2 (2021-12-04); potential confirmation visits available: no.[3]\n",
      "EDSS improvement (visit no.2, 2021-12-04) confirmed at [3] months, sustained up to visit no.3 (2022-03-12)\n",
      "New settings: baseline at visit no.3, searching for events from visit no.4 on\n",
      "EDSS change at visit no.4 (2022-07-19); potential confirmation visits available: no.[5]\n",
      "EDSS progression[PIRA] (visit no.4, 2022-07-19) confirmed at [3] months, sustained up to visit no.7 (2023-04-27)\n",
      "New settings: baseline at visit no.7, searching for events from visit no.- on\n",
      "No EDSS change in any subsequent visit: end process\n",
      "Event sequence: impr, PIRA\n",
      "\n",
      "---\n",
      "Outcome: EDSS\n",
      "Confirmation at: [3]mm (-30dd, +30dd)\n",
      "Baseline: roving\n",
      "Relapse influence: 30dd\n",
      "Events detected: multiple\n",
      "---\n",
      "Total subjects: 4\n",
      "---\n",
      "Progressed: 3 (PIRA: 3; RAW: 1)\n",
      "Improved: 1\n",
      "---\n",
      "Progression events: 4 (PIRA: 3; RAW: 1)\n",
      "Improved: 1\n"
     ]
    }
   ],
   "source": [
    "summary, results = MSprog(toydata_visits, \n",
    "                     subj_col='id', value_col='EDSS', date_col='date', \n",
    "                     event='multiple', baseline='roving', \n",
    "                     relapse=toydata_relapses, verbose=2)"
   ]
  },
  {
   "cell_type": "code",
   "execution_count": null,
   "id": "c6517520",
   "metadata": {},
   "outputs": [],
   "source": []
  }
 ],
 "metadata": {
  "kernelspec": {
   "display_name": "Python 3",
   "language": "python",
   "name": "python3"
  },
  "language_info": {
   "codemirror_mode": {
    "name": "ipython",
    "version": 3
   },
   "file_extension": ".py",
   "mimetype": "text/x-python",
   "name": "python",
   "nbconvert_exporter": "python",
   "pygments_lexer": "ipython3",
   "version": "3.7.3"
  }
 },
 "nbformat": 4,
 "nbformat_minor": 5
}
